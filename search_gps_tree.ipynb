{
 "cells": [
  {
   "cell_type": "markdown",
   "metadata": {},
   "source": [
    "# clustering of GPS coordinates via  M-way tree"
   ]
  },
  {
   "cell_type": "code",
   "execution_count": 2,
   "metadata": {},
   "outputs": [
    {
     "name": "stderr",
     "output_type": "stream",
     "text": [
      "/home/chandu/ckm/py38/lib/python3.8/site-packages/pandas/compat/__init__.py:117: UserWarning: Could not import the lzma module. Your installed Python is incomplete. Attempting to use lzma compression will result in a RuntimeError.\n",
      "  warnings.warn(msg)\n"
     ]
    }
   ],
   "source": [
    "import numpy as np, pandas as pd\n",
    "import json\n",
    "import time\n",
    "import bisect\n",
    "from util import *"
   ]
  },
  {
   "cell_type": "code",
   "execution_count": 2,
   "metadata": {},
   "outputs": [],
   "source": [
    "# # Show part of the data\n",
    "# data = pd.read_csv(\"../data/usergps.csv\", delimiter=\"\\t\", header=None)\n",
    "# data = data.iloc[:,:4]"
   ]
  },
  {
   "cell_type": "code",
   "execution_count": 3,
   "metadata": {},
   "outputs": [],
   "source": [
    "# print(data.head())"
   ]
  },
  {
   "cell_type": "code",
   "execution_count": 4,
   "metadata": {},
   "outputs": [],
   "source": [
    "# # data = data.iloc[:1000,:]\n",
    "# # print(data.shape)\n",
    "# \"\"\"\n",
    "# Convert degree decimal (DD) to degree, minute, and second format (DMS) \n",
    "# \"\"\"\n",
    "\n",
    "# data=data.applymap(dd2dms)\n",
    "# print(data.head())"
   ]
  },
  {
   "cell_type": "code",
   "execution_count": 5,
   "metadata": {},
   "outputs": [],
   "source": [
    "# print(data.shape)"
   ]
  },
  {
   "cell_type": "markdown",
   "metadata": {},
   "source": [
    "# Create multilevel hash map"
   ]
  },
  {
   "cell_type": "markdown",
   "metadata": {},
   "source": [
    "# We want to build a tree like below\n",
    "![caption](tree.jpg)"
   ]
  },
  {
   "cell_type": "code",
   "execution_count": 6,
   "metadata": {},
   "outputs": [],
   "source": [
    "contact_dist = 5"
   ]
  },
  {
   "cell_type": "markdown",
   "metadata": {},
   "source": [
    "# Create trees"
   ]
  },
  {
   "cell_type": "code",
   "execution_count": 7,
   "metadata": {},
   "outputs": [],
   "source": [
    "# lattree = CreateGPSTree('lat',contact_dist)\n",
    "\n",
    "# with open(\"../data/lat_tree_before.json\",\"w\") as fid:\n",
    "#     fid.write(json.dumps(lattree, indent=5))\n",
    "# with open(\"../data/lat_tree_after.json\",\"w\") as fid:\n",
    "#     fid.write(json.dumps(lattree, indent=5))\n",
    "    \n",
    "# longtree = CreateGPSTree('long',contact_dist)\n",
    "# with open(\"../data/long_tree_before.json\",\"w\") as fid:\n",
    "#     fid.write(json.dumps(longtree, indent=5))\n",
    "# with open(\"../data/long_tree_after.json\",\"w\") as fid:\n",
    "#     fid.write(json.dumps(longtree, indent=5))\n",
    "    "
   ]
  },
  {
   "cell_type": "code",
   "execution_count": 8,
   "metadata": {},
   "outputs": [],
   "source": [
    "# # #  delete the tresss for after use in offline mode.\n",
    "# del lattree\n",
    "# del longtree"
   ]
  },
  {
   "cell_type": "markdown",
   "metadata": {},
   "source": [
    "# Data for Testing Static case"
   ]
  },
  {
   "cell_type": "code",
   "execution_count": 9,
   "metadata": {},
   "outputs": [],
   "source": [
    "# # Generate some fake data\n",
    "# samples = 20000000\n",
    "# degree = np.random.randint(7,39, samples)\n",
    "# minutes = np.random.randint(0,59, samples)\n",
    "# col1 = np.random.rand(samples)\n",
    "# col2 = np.random.uniform(0,59, samples)\n",
    "# lat1 = pd.DataFrame({\"0\":[(d,m,s+f) for d, m, s, f in zip(degree, minutes,col1, col2)]})\n",
    "# # degree = np.random.randint(7,39, samples)\n",
    "# # minutes = np.random.randint(0,59, samples)\n",
    "# col1 = np.random.rand(samples)\n",
    "# col2 = np.random.uniform(0,59, samples)\n",
    "# lat2 = pd.DataFrame({\"0\":[(d,m,s+f) for d, m, s, f in zip(degree, minutes,col1, col2)]})\n",
    "# degree = np.random.randint(66,99, samples)\n",
    "# minutes = np.random.randint(0,59, samples)\n",
    "# col1 = np.random.rand(samples)\n",
    "# col2 = np.random.uniform(0,59, samples)\n",
    "# long1 = pd.DataFrame({\"0\":[(d,m,s+f) for d, m, s, f in zip(degree, minutes,col1, col2)]})\n",
    "# # degree = np.random.randint(66,99, samples)\n",
    "# # minutes = np.random.randint(0,59, samples)\n",
    "# col1 = np.random.rand(samples)\n",
    "# col2 = np.random.uniform(0,59, samples)\n",
    "# long2 = pd.DataFrame({\"0\":[(d,m,s+f) for d, m, s, f in zip(degree, minutes,col1, col2)]})\n",
    "# data=pd.concat([lat1, long1, lat2, long2], axis=1)\n",
    "# print(data.head())"
   ]
  },
  {
   "cell_type": "code",
   "execution_count": 8,
   "metadata": {},
   "outputs": [
    {
     "name": "stdout",
     "output_type": "stream",
     "text": [
      "                                 0\n",
      "0   (0, 18, 51, 54.29690177001075)\n",
      "1  (1, 17, 31, 55.594497560544745)\n",
      "2    (2, 7, 50, 20.87726809400921)\n",
      "3   (3, 32, 6, 39.609994994723166)\n",
      "4   (4, 26, 47, 20.24812753988229)\n"
     ]
    }
   ],
   "source": [
    "samples = 20000000\n",
    "rows =  np.arange(0,samples)\n",
    "degree = np.random.randint(7,39, samples)\n",
    "minutes = np.random.randint(0,59, samples)\n",
    "col1 = np.random.rand(samples)\n",
    "col2 = np.random.uniform(0,59, samples)\n",
    "lat1 = pd.DataFrame({\"0\":[(r,d,m,s+f) for r,d, m, s, f in zip(rows,degree, minutes,col1, col2)]})\n",
    "\n",
    "print(lat1.head())\n",
    "lat1.to_csv(r'pyafter.txt', header=False, index=False)"
   ]
  },
  {
   "cell_type": "code",
   "execution_count": 6,
   "metadata": {},
   "outputs": [
    {
     "name": "stdout",
     "output_type": "stream",
     "text": [
      "                                0\n",
      "0  (0, 29, 44, 5.737904899786317)\n",
      "1  (1, 28, 37, 41.24992928133539)\n",
      "2  (2, 34, 15, 55.15784171878894)\n",
      "3  (3, 11, 33, 52.46618081640381)\n",
      "4   (4, 25, 6, 4.347807177006583)\n"
     ]
    }
   ],
   "source": [
    "d=pd.read_csv('pybefore.csv',header=None)\n",
    "print(d.head())"
   ]
  },
  {
   "cell_type": "markdown",
   "metadata": {},
   "source": [
    "# Data for testing dynamic case"
   ]
  },
  {
   "cell_type": "code",
   "execution_count": 10,
   "metadata": {},
   "outputs": [
    {
     "name": "stdout",
     "output_type": "stream",
     "text": [
      "                              0                             0  \\\n",
      "0    (9, 39, 47.04237522957328)   (87, 7, 28.391602397776253)   \n",
      "1  (32, 43, 50.675141662914655)   (73, 55, 28.39403478153326)   \n",
      "2   (28, 1, 14.228885863806806)  (77, 46, 59.097831650368875)   \n",
      "3   (10, 50, 45.70082223074443)  (83, 19, 13.474401704483482)   \n",
      "4   (22, 7, 0.1946891674461001)   (84, 22, 9.428105626498168)   \n",
      "\n",
      "                              0                             0  \n",
      "0    (9, 39, 47.17617157686021)   (87, 7, 28.008109016592172)  \n",
      "1   (32, 43, 50.59820391475288)  (73, 55, 28.307190362929028)  \n",
      "2   (28, 1, 14.119150280788606)   (77, 46, 59.11980223175994)  \n",
      "3  (10, 50, 46.495978974086334)   (83, 19, 14.04829273287082)  \n",
      "4   (22, 7, 0.7166350982153299)   (84, 22, 9.060658184093095)  \n"
     ]
    }
   ],
   "source": [
    "# Generate some fake data\n",
    "samples = 20000000\n",
    "degree = np.random.randint(7,39, samples)\n",
    "minutes = np.random.randint(0,59, samples)\n",
    "col1 = np.random.rand(samples)\n",
    "col2 = np.random.uniform(0,59, samples)\n",
    "lat1 = pd.DataFrame({\"0\":[(d,m,s+f) for d, m, s, f in zip(degree, minutes,col1, col2)]})\n",
    "# degree = np.random.randint(7,39, samples)\n",
    "# minutes = np.random.randint(0,59, samples)\n",
    "col1 = np.random.rand(samples)\n",
    "# col2 = np.random.uniform(0,59, samples)\n",
    "lat2 = pd.DataFrame({\"0\":[(d,m,s+f) for d, m, s, f in zip(degree, minutes,col1, col2)]})\n",
    "degree = np.random.randint(66,99, samples)\n",
    "minutes = np.random.randint(0,59, samples)\n",
    "col1 = np.random.rand(samples)\n",
    "col2 = np.random.uniform(0,59, samples)\n",
    "long1 = pd.DataFrame({\"0\":[(d,m,s+f) for d, m, s, f in zip(degree, minutes,col1, col2)]})\n",
    "# degree = np.random.randint(66,99, samples)\n",
    "# minutes = np.random.randint(0,59, samples)\n",
    "col1 = np.random.rand(samples)\n",
    "# col2 = np.random.uniform(0,59, samples)\n",
    "long2 = pd.DataFrame({\"0\":[(d,m,s+f) for d, m, s, f in zip(degree, minutes,col1, col2)]})\n",
    "data=pd.concat([lat1, long1, lat2, long2], axis=1)\n",
    "print(data.head())"
   ]
  },
  {
   "cell_type": "code",
   "execution_count": 11,
   "metadata": {},
   "outputs": [],
   "source": [
    "# #  sample Data for testing static/dynamic case\n",
    "# data = pd.read_csv(\"../data/sample.csv\")\n",
    "# data  = data.iloc[:,1:5]\n",
    "# data = data.applymap(eval)\n",
    "# print(data)\n"
   ]
  },
  {
   "cell_type": "code",
   "execution_count": 12,
   "metadata": {},
   "outputs": [],
   "source": [
    "# list(enumerate(data.iloc[:,0]))"
   ]
  },
  {
   "cell_type": "code",
   "execution_count": 13,
   "metadata": {},
   "outputs": [],
   "source": [
    "# Load tress\n",
    "\n",
    "with open(\"../data/lat_tree_before.json\",\"r\") as fid:\n",
    "    lat_tree_before = json.load(fid)\n",
    "with open(\"../data/lat_tree_after.json\",\"r\") as fid:\n",
    "    lat_tree_after = json.load(fid)\n",
    "    \n",
    "# with open(\"../data/long_tree_before.json\",\"r\") as fid:\n",
    "#     long_tree_before = json.load(fid)\n",
    "# with open(\"../data/long_tree_after.json\",\"r\") as fid:\n",
    "#     long_tree_after = json.load(fid)"
   ]
  },
  {
   "cell_type": "markdown",
   "metadata": {},
   "source": [
    "# Static Case"
   ]
  },
  {
   "cell_type": "code",
   "execution_count": 14,
   "metadata": {},
   "outputs": [],
   "source": [
    "# # #  map data to trees\n",
    "# start = time.perf_counter()\n",
    "# MapGPS(lat_tree_before, data.iloc[:,0], contact_dist)\n",
    "# end = time.perf_counter()\n",
    "# print(\"Elapsed time: \", end-start)\n",
    "# start = time.perf_counter()\n",
    "# MapGPS(lat_tree_after, data.iloc[:,2], contact_dist)\n",
    "# end = time.perf_counter()\n",
    "# print(\"Elapsed time: \", end-start)\n",
    "\n",
    "# #  Intersect trees\n",
    "\n",
    "# start = time.perf_counter()\n",
    "# contact_list = IntersectGPSTree(lat_tree_before, lat_tree_after, 'lat', contact_dist)\n",
    "# end = time.perf_counter()\n",
    "# print(\"Elapsed time: \", end-start)"
   ]
  },
  {
   "cell_type": "code",
   "execution_count": 15,
   "metadata": {},
   "outputs": [],
   "source": [
    "# contact_list"
   ]
  },
  {
   "cell_type": "code",
   "execution_count": 16,
   "metadata": {},
   "outputs": [],
   "source": [
    "# #  map data to trees\n",
    "# start = time.perf_counter()\n",
    "# MapGPS(long_tree_before, data.iloc[:,1], contact_dist)\n",
    "# end = time.perf_counter()\n",
    "# print(\"Elapsed time: \", end-start)\n",
    "# start = time.perf_counter()\n",
    "# MapGPS(long_tree_after, data.iloc[:,3], contact_dist)\n",
    "# end = time.perf_counter()\n",
    "# print(\"Elapsed time: \", end-start)\n",
    "\n",
    "# #  Intersect trees\n",
    "\n",
    "# start = time.perf_counter()\n",
    "# contact_list = IntersectGPSTree(long_tree_before, long_tree_after, 'long', contact_dist)\n",
    "# end = time.perf_counter()\n",
    "# print(\"Elapsed time: \", end-start)"
   ]
  },
  {
   "cell_type": "code",
   "execution_count": 17,
   "metadata": {},
   "outputs": [],
   "source": [
    "# contact_list"
   ]
  },
  {
   "cell_type": "markdown",
   "metadata": {},
   "source": [
    "# Dynamic Case"
   ]
  },
  {
   "cell_type": "code",
   "execution_count": 18,
   "metadata": {
    "pixiedust": {
     "displayParams": {}
    },
    "scrolled": true
   },
   "outputs": [
    {
     "name": "stdout",
     "output_type": "stream",
     "text": [
      "Elapsed time for mapping to tree:  205.09433840199995\n",
      "Elapsed time for mapping to tree:  202.2269994889998\n",
      "Elapsed time for Intersection:  369.76297627200006\n"
     ]
    }
   ],
   "source": [
    "#  map data to trees\n",
    "start = time.perf_counter()\n",
    "MapGPS(lat_tree_before, data.iloc[:,0], contact_dist)\n",
    "end = time.perf_counter()\n",
    "print(\"Elapsed time for mapping to tree: \", end-start)\n",
    "start = time.perf_counter()\n",
    "MapGPS(lat_tree_after, data.iloc[:,2], contact_dist)\n",
    "end = time.perf_counter()\n",
    "print(\"Elapsed time for mapping to tree: \", end-start)\n",
    "\n",
    "#  Intersect trees\n",
    "\n",
    "start = time.perf_counter()\n",
    "contact_list = FastPedestrianIntersectGPSTree(lat_tree_before, lat_tree_after, 'lat', contact_dist)\n",
    "end = time.perf_counter()\n",
    "print(\"Elapsed time for Intersection: \", end-start)"
   ]
  },
  {
   "cell_type": "code",
   "execution_count": 19,
   "metadata": {},
   "outputs": [
    {
     "data": {
      "text/plain": [
       "{3238663, 15456344}"
      ]
     },
     "execution_count": 19,
     "metadata": {},
     "output_type": "execute_result"
    }
   ],
   "source": [
    "contact_list[0]"
   ]
  },
  {
   "cell_type": "markdown",
   "metadata": {},
   "source": [
    "# Parallel Implementation of the mapping"
   ]
  },
  {
   "cell_type": "code",
   "execution_count": 20,
   "metadata": {},
   "outputs": [],
   "source": [
    "\n",
    "# data=[1,2,3,1,3,1]\n",
    "# # sharedtree= manager.dict({\"1\":manager.list(),\"2\":manager.list(),\"3\":manager.list()})\n",
    "# sharedtree = manager.dict({\"1\":[],\"2\":[],\"3\":[]})\n",
    "# with Pool(processes=3) as pool:\n",
    "#     pool.map(partial(mapTo, tree=sharedtree), list(enumerate(data,start=1)))\n",
    "    "
   ]
  },
  {
   "cell_type": "code",
   "execution_count": 21,
   "metadata": {},
   "outputs": [],
   "source": [
    "# def mapTo(i_d,tree):\n",
    "#     idx,item = i_d\n",
    "#     l = tree[str(item)]\n",
    "#     l.append(idx)\n",
    "#     tree[str(item)] = l\n",
    "    \n",
    "\n",
    "       "
   ]
  },
  {
   "cell_type": "code",
   "execution_count": 22,
   "metadata": {},
   "outputs": [],
   "source": [
    "# from functools import partial\n",
    "# from multiprocessing import Pool, Manager\n",
    "# manager = Manager()\n",
    "# lat_shared_before = manager.dict(lat_tree_before)\n",
    "\n",
    "# start = time.perf_counter()\n",
    "# with Pool(processes=8) as pool:\n",
    "#     pool.map(partial(MapGPSInParallel, tree=lat_shared_before, contact_dist=contact_dist),list(enumerate(data.iloc[:,0])))\n",
    "\n",
    "# # MapGPS(lat_tree_before, data.iloc[:,0], contact_dist)\n",
    "\n",
    "# end = time.perf_counter()\n",
    "# print(\"Elapsed time: \", end-start)"
   ]
  },
  {
   "cell_type": "code",
   "execution_count": 23,
   "metadata": {},
   "outputs": [],
   "source": [
    "# from objsize import get_deep_size\n",
    "# print(get_deep_size(tree))\n",
    "# print(get_deep_size(gps_tree))"
   ]
  }
 ],
 "metadata": {
  "kernelspec": {
   "display_name": "Python 3",
   "language": "python",
   "name": "python3"
  },
  "language_info": {
   "codemirror_mode": {
    "name": "ipython",
    "version": 3
   },
   "file_extension": ".py",
   "mimetype": "text/x-python",
   "name": "python",
   "nbconvert_exporter": "python",
   "pygments_lexer": "ipython3",
   "version": "3.8.2"
  }
 },
 "nbformat": 4,
 "nbformat_minor": 4
}
